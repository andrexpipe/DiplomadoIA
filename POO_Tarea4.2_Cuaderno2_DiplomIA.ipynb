{
 "cells": [
  {
   "attachments": {},
   "cell_type": "markdown",
   "metadata": {},
   "source": [
    "# <font color=red>Tarea 4. Programación Orientada a Objetos: Cuaderno 2.</font>\n",
    "\n",
    "#### <font color=cyan>Andrés Felipe Patarroyo Rubiano</font>\n",
    "\n",
    "#### <font color=blue>15 de mayo de 2023</font>"
   ]
  },
  {
   "attachments": {},
   "cell_type": "markdown",
   "metadata": {},
   "source": [
    "Pruebe su clase\n",
    "\n",
    "3. Escriba una clase con las siguientes funcionalidades:<br>\n",
    "3.1. Al instanciar un objeto, lee un conjunto de datos numéricos. Por ejemplo puede usar el mismo conjunto de datos iris.csv. Instancie los datos en un dataframe de Pandas<br>\n",
    "3.2 Implemente un método que calcule las estadísticas descriptivas básicas de cada una de las variables.<br>\n",
    "3.3 Implemente un método que entregue los nombre de las variables disponibles.<br>\n",
    "3.4 Implemente un método que reciba el nombre de una variable disponible dentro del objeto ( en el  dataframe) y regrese: sus estadísticas básicas:  media, mediana, desviación, percentiles q25, q50, q75 y dibuje un histograma de la distribución de la variable.\n",
    "\n",
    "Pruebe su clase.\n",
    "\n",
    "Construya dos cuadernos. Uno por cada clase implementada y probada. Súbalas a su repositorio de Github y coloque en la solución los respectivos enlaces."
   ]
  },
  {
   "cell_type": "code",
   "execution_count": 1,
   "metadata": {},
   "outputs": [
    {
     "name": "stdout",
     "output_type": "stream",
     "text": [
      "       sepal.length  sepal.width  petal.length  petal.width\n",
      "count    150.000000   150.000000    150.000000   150.000000\n",
      "mean       5.843333     3.057333      3.758000     1.199333\n",
      "std        0.828066     0.435866      1.765298     0.762238\n",
      "min        4.300000     2.000000      1.000000     0.100000\n",
      "25%        5.100000     2.800000      1.600000     0.300000\n",
      "50%        5.800000     3.000000      4.350000     1.300000\n",
      "75%        6.400000     3.300000      5.100000     1.800000\n",
      "max        7.900000     4.400000      6.900000     2.500000\n",
      "\n",
      " Las variables disponibles son:\n",
      " Index(['sepal.length', 'sepal.width', 'petal.length', 'petal.width',\n",
      "       'variety'],\n",
      "      dtype='object')\n",
      "\n",
      " Las estadísticas específicas para la variable elegida son: \n",
      "\n",
      "media:  5.843333333333334\n",
      "mediana:  5.8\n",
      "desv. estándar:  0.8280661279778629\n",
      "percentil 25:  5.1\n",
      "percentil 50:  5.8\n",
      "percentil 75:  6.4\n",
      "histograma de frecuencias de la variable elegida Axes(0.125,0.11;0.775x0.77)\n"
     ]
    },
    {
     "data": {
      "image/png": "[encoded data removed]",
      "text/plain": [
       "<Figure size 640x480 with 1 Axes>"
      ]
     },
     "metadata": {},
     "output_type": "display_data"
    }
   ],
   "source": [
    "import pandas as pd\n",
    "\n",
    "class importcomas:\n",
    "    def __init__(self,nombre):\n",
    "        self.nombre=pd.read_csv(nombre)\n",
    "    \n",
    "    \n",
    "    def estadisticas(self):   \n",
    "        statis=self.nombre.describe()\n",
    "        print(statis)\n",
    "        \n",
    "    def columnas(self):\n",
    "        cols=self.nombre.columns\n",
    "        print(\"\\n Las variables disponibles son:\\n\",cols)    \n",
    "    \n",
    "    def statsadd(self,variable):\n",
    "        print(\"\\n Las estadísticas específicas para la variable elegida son: \\n\")\n",
    "        print(\"media: \",self.nombre[variable].mean(skipna=True))\n",
    "        print(\"mediana: \",self.nombre[variable].median(skipna=True))\n",
    "        print(\"desv. estándar: \",self.nombre[variable].std(skipna=True))\n",
    "        print(\"percentil 25: \",self.nombre[variable].quantile(.25))\n",
    "        print(\"percentil 50: \",self.nombre[variable].quantile(.5))\n",
    "        print(\"percentil 75: \",self.nombre[variable].quantile(.75))\n",
    "        print(\"histograma de frecuencias de la variable elegida\",self.nombre[variable].plot.hist())\n",
    "        \n",
    "        \n",
    "nom=input(\"Ingrese el nombre del archivo sin la terminación .csv, guardado en el directorio: \")\n",
    "ext=\".csv\"\n",
    "ruta=nom+ext\n",
    "archivo=importcomas(ruta)\n",
    "archivo.estadisticas()\n",
    "archivo.columnas()\n",
    "especifica=input(\"Ingrese la variable que tendrá estadísticas específicas:\")\n",
    "archivo.statsadd(especifica)"
   ]
  }
 ],
 "metadata": {
  "kernelspec": {
   "display_name": "base",
   "language": "python",
   "name": "python3"
  },
  "language_info": {
   "codemirror_mode": {
    "name": "ipython",
    "version": 3
   },
   "file_extension": ".py",
   "mimetype": "text/x-python",
   "name": "python",
   "nbconvert_exporter": "python",
   "pygments_lexer": "ipython3",
   "version": "3.10.9"
  },
  "orig_nbformat": 4
 },
 "nbformat": 4,
 "nbformat_minor": 2
}
