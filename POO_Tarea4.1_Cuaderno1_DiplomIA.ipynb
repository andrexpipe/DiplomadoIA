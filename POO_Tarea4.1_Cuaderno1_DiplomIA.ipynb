{
 "cells": [
  {
   "attachments": {},
   "cell_type": "markdown",
   "metadata": {},
   "source": [
    "# <font color=red>Tarea 4. Programación Orientada a Objetos: Cuaderno 1.</font>\n",
    "\n",
    "#### <font color=cyan>Andrés Felipe Patarroyo Rubiano</font>\n",
    "\n",
    "#### <font color=blue>15 de mayo de 2023</font>"
   ]
  },
  {
   "attachments": {},
   "cell_type": "markdown",
   "metadata": {},
   "source": [
    "#### 1. Consiga el conjunto de datos iris.csv. En el repositorio de Aprendizaje Profundo encuentra alguna versión.\n",
    "#### 2. Escriba una clase iterable que tenga la siguiente funcionalidad\n",
    "2.1 Al instanciar un objeto, lee el archivo de datos y lo coloca en un dataframe interno en la clase. <br>\n",
    "2.2. Cada vez que se le pidan datos, debe regresar los dos siguientes datos. <br>\n",
    "2.3 Entregue un error si los datos se han agotado.<br>\n"
   ]
  },
  {
   "cell_type": "code",
   "execution_count": 29,
   "metadata": {},
   "outputs": [
    {
     "name": "stdout",
     "output_type": "stream",
     "text": [
      "<class 'int'>\n",
      "el dato pedido: \n",
      " sepal.length          7.4\n",
      "sepal.width           2.8\n",
      "petal.length          6.1\n",
      "petal.width           1.9\n",
      "variety         Virginica\n",
      "Name: 130, dtype: object\n",
      "el siguiente al dato pedido: \n",
      " sepal.length          7.9\n",
      "sepal.width           3.8\n",
      "petal.length          6.4\n",
      "petal.width           2.0\n",
      "variety         Virginica\n",
      "Name: 131, dtype: object\n",
      "el segundo siguiente al dato pedido \n",
      " sepal.length          6.4\n",
      "sepal.width           2.8\n",
      "petal.length          5.6\n",
      "petal.width           2.2\n",
      "variety         Virginica\n",
      "Name: 132, dtype: object\n"
     ]
    }
   ],
   "source": [
    "import pandas as pd\n",
    "\n",
    "class importcomas:\n",
    "    def __init__(self,nombre):\n",
    "        self.nombre=pd.read_csv(nombre)\n",
    "    \n",
    "    \n",
    "    def reporte(self, dato):   \n",
    "        self.dato=self.nombre.iloc[dato]\n",
    "        if dato==148:\n",
    "            self.sig=self.nombre.iloc[dato+1]\n",
    "            print(\"el dato pedido:\",\"\\n\", self.dato)\n",
    "            print(\"el siguiente al dato pedido:\", \"\\n\", self.sig)\n",
    "            print(\"No hay datos siguientes para mostrar\") \n",
    "        elif dato==149:\n",
    "            print(\"el dato pedido:\",\"\\n\", self.dato)\n",
    "            print(\"No hay datos siguientes para mostrar\")     \n",
    "        else:\n",
    "            self.sig=self.nombre.iloc[dato+1]\n",
    "            self.sig2=self.nombre.iloc[dato+2]\n",
    "            print(\"el dato pedido:\",\"\\n\", self.dato)\n",
    "            print(\"el siguiente al dato pedido:\", \"\\n\", self.sig)\n",
    "            print(\"el segundo siguiente al dato pedido\",\"\\n\", self.sig2)\n",
    "        \n",
    "\n",
    "        \n",
    "        \n",
    "        \n",
    "nom=input(\"Ingrese el nombre del archivo csv, guardado en el directorio: \")\n",
    "ext=\".csv\"\n",
    "ruta=nom+ext\n",
    "archivo=importcomas(ruta)\n",
    "caso=int(input(\"Ingrese el número de la fila a reportar (0 a 149):\"))\n",
    "print(type(caso))\n",
    "archivo.reporte(caso)"
   ]
  }
 ],
 "metadata": {
  "kernelspec": {
   "display_name": "base",
   "language": "python",
   "name": "python3"
  },
  "language_info": {
   "codemirror_mode": {
    "name": "ipython",
    "version": 3
   },
   "file_extension": ".py",
   "mimetype": "text/x-python",
   "name": "python",
   "nbconvert_exporter": "python",
   "pygments_lexer": "ipython3",
   "version": "3.10.9"
  },
  "orig_nbformat": 4
 },
 "nbformat": 4,
 "nbformat_minor": 2
}
