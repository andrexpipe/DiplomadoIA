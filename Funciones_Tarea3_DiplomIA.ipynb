{
 "cells": [
  {
   "cell_type": "markdown",
   "id": "fab6b679-bf5d-4c7b-b236-74ae79692a24",
   "metadata": {},
   "source": [
    "# <font color='red'> Tarea 3. Funciones</font>\n",
    "    \n",
    "*<font color='blue'>Andrés Felipe Patarroyo Rubiano</font>*\n",
    "\n",
    "*<font color='blue'>11 de mayo de 2023</font>*"
   ]
  },
  {
   "cell_type": "markdown",
   "id": "5f9acd74-1747-4a73-be08-b93ad90a2016",
   "metadata": {},
   "source": [
    "####  1. Escriba una función  que reciba la fecha de nacimiento de una persona y calcule la edad de la persona\n"
   ]
  },
  {
   "cell_type": "code",
   "execution_count": 51,
   "id": "af58a3ee-2061-4633-ad37-bde34e62a095",
   "metadata": {},
   "outputs": [
    {
     "name": "stdin",
     "output_type": "stream",
     "text": [
      "Ingresa la fecha de nacimiento en formato dd/mm/aaaa 19/07/1965\n"
     ]
    },
    {
     "name": "stdout",
     "output_type": "stream",
     "text": [
      "La persona tiene  57 años\n"
     ]
    }
   ],
   "source": [
    "from datetime import datetime\n",
    "\n",
    "def edad(fecha):\n",
    "    hoy=datetime.today()\n",
    "    hoy=hoy.year-fecha.year -((hoy.month, hoy.day)<(fecha.month, fecha.day))\n",
    "    '''\n",
    "    el condicional que resta mes y día de nacimiento, de mes y día de la fecha de hoy, aprovecha que un valor True=1 y False=0\n",
    "    sin la resta, alguien que aún no cumple años va a registrar como si ya lo hubiera cumplido, con el hecho de solo cambiar \n",
    "    de año pero no llegar aún al día específico de cumpleaños.\n",
    "    '''\n",
    "    return hoy\n",
    "\n",
    "fechadate= str(input(\"Ingresa la fecha de nacimiento en formato dd/mm/aaaa\"))\n",
    "fechadate = datetime.strptime(fechadate, \"%d/%m/%Y\") #strptime() es un método de datetime en que se convierte la cadena ingresada por el usuario, en fecha\n",
    "\n",
    "age=edad(fechadate)\n",
    "\n",
    "\n",
    "print(\"La persona tiene \", age, \"años\")"
   ]
  },
  {
   "cell_type": "markdown",
   "id": "ea6058de-5562-4a1b-af94-3b07eb52c0a2",
   "metadata": {},
   "source": [
    "#### 2. Crea una función EscribirCentrado, que reciba como parámetro un texto y lo escriba centrado en pantalla (suponiendo una anchura de 80 columnas; pista: deberás escribir 40 - longitud/2 espacios antes del texto).  "
   ]
  },
  {
   "cell_type": "code",
   "execution_count": 54,
   "id": "edf3a89f-748e-49fe-8101-f31e0c8643de",
   "metadata": {},
   "outputs": [
    {
     "name": "stdin",
     "output_type": "stream",
     "text": [
      "Ingresa el texto Hola mundo. Esta es la prueba para el taller de funciones.\n"
     ]
    },
    {
     "name": "stdout",
     "output_type": "stream",
     "text": [
      "largo de la cadena: 58\n",
      "Las 80 columnas están marcadas abajo por guión, los cuarenta espacios se acaban cuando empieza el número 40: \n",
      "                                                                               _\n",
      "                                        40\n",
      "           Hola mundo. Esta es la prueba para el taller de funciones.\n"
     ]
    }
   ],
   "source": [
    "def EscribirCentrado(entrada):\n",
    "    largo=len(entrada)\n",
    "    print(\"largo de la cadena:\", largo)\n",
    "    x=entrada.rjust(40+int((len(entrada)/2)), \" \")\n",
    "    return x\n",
    "    \n",
    "texto=str(input(\"Ingresa el texto\"))\n",
    "texto=texto.rstrip(' ')\n",
    "txt=EscribirCentrado(texto)\n",
    "marcador=\"_\"\n",
    "#\n",
    "print(\"Las 80 columnas están marcadas abajo por guión, los cuarenta espacios se acaban cuando empieza el número 40: \\n\", marcador.rjust(79))\n",
    "print(\"                                        40\")\n",
    "print(txt)"
   ]
  },
  {
   "cell_type": "markdown",
   "id": "612daf2c-9f10-4faa-893c-d99790c01dab",
   "metadata": {},
   "source": [
    "#### 3. Construya una función decorada que reciba un texto y lo escriba marcado con Markdown en itálica y resaltada (bold). Revise la lección de decoradores, no vista en clase."
   ]
  },
  {
   "cell_type": "code",
   "execution_count": 3,
   "id": "b5087e81-1d7d-4cd6-b814-c9bf3ee2b664",
   "metadata": {},
   "outputs": [
    {
     "name": "stdin",
     "output_type": "stream",
     "text": [
      "escribe el texto 5\n"
     ]
    },
    {
     "data": {
      "text/markdown": [
       "<i><b>5</b></i>"
      ],
      "text/plain": [
       "<IPython.core.display.Markdown object>"
      ]
     },
     "metadata": {},
     "output_type": "display_data"
    }
   ],
   "source": [
    "from IPython.display import display, Markdown\n",
    "\n",
    "def resal(recibo):\n",
    "    def texto():\n",
    "        return \"<b>\"+recibo()+\"</b>\"\n",
    "    return texto\n",
    "\n",
    "def ital(recibo2):\n",
    "    def texto2():\n",
    "        return \"<i>\"+recibo2()+\"</i>\"\n",
    "    return texto2       \n",
    "\n",
    "@ital            \n",
    "@resal          \n",
    "def recibe():\n",
    "            x=input(\"escribe el texto\")\n",
    "            return x\n",
    "display(Markdown(recibe()))"
   ]
  },
  {
   "cell_type": "markdown",
   "id": "d6a50c1b-371e-4039-a395-3ce50af508f6",
   "metadata": {},
   "source": [
    "#### 4.  Crea un programa que pida dos número enteros al usuario y diga si alguno de ellos es múltiplo del otro. \n"
   ]
  },
  {
   "cell_type": "code",
   "execution_count": 90,
   "id": "d0aefcff-00f0-4a25-bd27-ab7def798f12",
   "metadata": {},
   "outputs": [
    {
     "name": "stdin",
     "output_type": "stream",
     "text": [
      "Escribe el primer número: 52\n",
      "Escribe el segundo número: 2\n"
     ]
    },
    {
     "name": "stdout",
     "output_type": "stream",
     "text": [
      "52.0 es múltiplo de:  2.0\n"
     ]
    }
   ],
   "source": [
    "def operaciones(op):\n",
    "    def devuelta(x,y): #la función decoradora debe devolver algún resultado. Devuelve a \"devuelta\"\n",
    "        if x%y==0:\n",
    "            print(x, \"es múltiplo de: \", y)\n",
    "        elif y%x==0:\n",
    "            print(y, \"es múltiplo de: \", x)\n",
    "        else:\n",
    "            print(\"Ningún número es múltiplo del otro\")\n",
    "        return\n",
    "    return devuelta\n",
    "\n",
    "\n",
    "@operaciones\n",
    "def nums(x, y):\n",
    "    return       \n",
    "\n",
    "z=float(input(\"Escribe el primer número:\"))\n",
    "zz=float(input(\"Escribe el segundo número:\"))\n",
    "nums(z, zz)  \n",
    "      "
   ]
  },
  {
   "cell_type": "markdown",
   "id": "56d24873-d4ad-4f47-b52a-7083889bcac6",
   "metadata": {},
   "source": [
    "#### 5. Crear una función que reciba una lista  de 24 valores de temperatura leída  hora en un día y que calcule la temperatura media.  Cree una lista con 24 valores de temperatura de un día de Bogotá y pruebe su función. Invente los datos."
   ]
  },
  {
   "cell_type": "code",
   "execution_count": 10,
   "id": "995f2aef-d7dd-4485-b960-0f028c606524",
   "metadata": {},
   "outputs": [
    {
     "name": "stdout",
     "output_type": "stream",
     "text": [
      "El promedio de la lista es: \n",
      "12.5  grados Celsius.\n"
     ]
    }
   ],
   "source": [
    "def decora(func):\n",
    "    def impresion(temperaturas):\n",
    "        print(\"El promedio de la lista es: \")\n",
    "        prom=func(temperaturas)\n",
    "        print(prom, \" grados Celsius.\")\n",
    "        return\n",
    "    return impresion\n",
    "\n",
    "\n",
    "@decora\n",
    "def media(nums):\n",
    "    total=len(nums)\n",
    "    suma=0\n",
    "    for i in range(len(nums)):\n",
    "        suma=suma+nums[i]\n",
    "    promedio=suma/total\n",
    "    return promedio\n",
    "\n",
    "valores=[1,2,3,4,5,6,7,8,9,10,11,12,13,14,15,16,17,18,19,20,21,22,23,24]\n",
    "media(valores)"
   ]
  },
  {
   "cell_type": "markdown",
   "id": "901bd495-3a5b-4f7c-8a6f-307215719f83",
   "metadata": {},
   "source": [
    "#### 5. Crea un función “ConvertirEspaciado”, que reciba como parámetro un texto y devuelve una cadena con un espacio adicional tras cada letra. Por ejemplo, “Hola, tú” devolverá “H o l a , t ú “.  Pruebe "
   ]
  },
  {
   "cell_type": "code",
   "execution_count": 61,
   "id": "e15cc3e2-5208-4282-997a-6e90f593adfa",
   "metadata": {},
   "outputs": [
    {
     "name": "stdin",
     "output_type": "stream",
     "text": [
      "Escriba la cadena:  hola, tú\n"
     ]
    },
    {
     "name": "stdout",
     "output_type": "stream",
     "text": [
      "La cadena con espacios es (al final un punto para mostrar el último espacio): h o l a ,   t ú  .\n"
     ]
    }
   ],
   "source": [
    "def decora(fun):\n",
    "    def impr(letters):\n",
    "        print(\"La cadena con espacios es (al final un punto para mostrar el último espacio):\",fun(letters), \".\")\n",
    "        return\n",
    "    return impr\n",
    "        \n",
    "@decora     \n",
    "def espaciador(letras):\n",
    "    pos=0\n",
    "    nueva=[\"N/A\"]\n",
    "    for i in range(len(letras)):\n",
    "            if pos==0:\n",
    "                nueva[0]=letras[0]\n",
    "                nueva.append(\" \")\n",
    "                pos=pos+1\n",
    "            else:\n",
    "                nueva.append(letras[i])\n",
    "                nueva.append(\" \")\n",
    "\n",
    "    a=\"\".join(nueva) #El método join() toma todos los ítems de la tupla y los junta en una cadena, con un separador entre comillas previamente escrito\n",
    "    return a\n",
    "\n",
    "\n",
    "\n",
    "entrada=input(\"Escriba la cadena: \")\n",
    "chars=[c for c in entrada]\n",
    "espaciador(chars)\n",
    "\n"
   ]
  },
  {
   "cell_type": "markdown",
   "id": "6544904b-f889-4e93-b34d-07d945994fb6",
   "metadata": {},
   "source": [
    "#### 6. Crea una función “calcularMaxMin” que recibe una arreglo con valores numérico y devuelve el valor máximo y el mínimo. "
   ]
  },
  {
   "cell_type": "code",
   "execution_count": 16,
   "id": "861899b9-f334-4593-83d1-d1b772b4502a",
   "metadata": {},
   "outputs": [
    {
     "name": "stdout",
     "output_type": "stream",
     "text": [
      "El mayor y menor número del arreglo son repectivamente: \n"
     ]
    },
    {
     "data": {
      "text/plain": [
       "(50, 1)"
      ]
     },
     "execution_count": 16,
     "metadata": {},
     "output_type": "execute_result"
    }
   ],
   "source": [
    "def decora(func):\n",
    "    def decor(arr):\n",
    "        print(\"El mayor y menor número del arreglo son repectivamente: \")\n",
    "        x=func(arr)\n",
    "        return x\n",
    "    return decor\n",
    "\n",
    "@decora\n",
    "def mayor(arreg):\n",
    "    may=arreg[0]\n",
    "    men=arreg[0]\n",
    "    for i in range(len(arreg)-1):\n",
    "        b=arreg[i+1]\n",
    "        if (may-b)<0:\n",
    "            may=b\n",
    "        elif (men-b)>0:\n",
    "            men=b\n",
    "        elif (men-b)<0:\n",
    "            men=men\n",
    "        elif (may-b)>0:\n",
    "            may=may\n",
    "    return may, men\n",
    "\n",
    "\n",
    "arreglo=[1, 2, 3, 4, 5, 3, 9, 2, 10, 13, 12, 3, 50]\n",
    "mayor(arreglo)"
   ]
  },
  {
   "cell_type": "markdown",
   "id": "3c10edaa-4c09-4ef1-95d6-c6ad8adcdcac",
   "metadata": {},
   "source": [
    "#### 7.  Diseñar una función que calcule el área y el perímetro de una circunferencia. "
   ]
  },
  {
   "cell_type": "code",
   "execution_count": 20,
   "id": "44888835-325f-4afc-acbc-c872c131f979",
   "metadata": {},
   "outputs": [
    {
     "name": "stdin",
     "output_type": "stream",
     "text": [
      "Ingresa el radio de la circunferencia:  2\n"
     ]
    },
    {
     "name": "stdout",
     "output_type": "stream",
     "text": [
      "El área y perímetro de la circunferencia son respectivamente:\n"
     ]
    },
    {
     "data": {
      "text/plain": [
       "(12.566370614359172, 12.566370614359172)"
      ]
     },
     "execution_count": 20,
     "metadata": {},
     "output_type": "execute_result"
    }
   ],
   "source": [
    "import numpy as np\n",
    "\n",
    "def decora(func):\n",
    "    def envolt(datos):\n",
    "        print(\"El área y perímetro de la circunferencia son respectivamente:\")\n",
    "        x=func(datos)\n",
    "        return x\n",
    "    return envolt\n",
    "\n",
    "@decora\n",
    "def medidas(radio):\n",
    "    area= np.pi*(radio**2)\n",
    "    diam= 2*np.pi*radio\n",
    "    return area, diam\n",
    "    \n",
    "rad=float(input(\"Ingresa el radio de la circunferencia: \"))\n",
    "medidas(rad)"
   ]
  },
  {
   "cell_type": "markdown",
   "id": "cc09ceab-7140-4879-a78d-ab13dcee0849",
   "metadata": {},
   "source": [
    "#### 8. Crear una función  llamada “Login”, que recibe un nombre de usuario y una contraseña y devuelva Verdadero si el nombre de usuario es “usuario1” y la contraseña es “asdasd”. Además recibe el número de intentos que se ha intentado hacer login y si no se ha podido hacer login incremente este valor."
   ]
  },
  {
   "cell_type": "code",
   "execution_count": 37,
   "id": "cb56e8d3-891a-419c-9636-d27f3a78a228",
   "metadata": {},
   "outputs": [
    {
     "name": "stdout",
     "output_type": "stream",
     "text": [
      "usuario1 asdasd\n"
     ]
    },
    {
     "name": "stdin",
     "output_type": "stream",
     "text": [
      "Usuario:  l\n",
      "Contraseña:  l\n"
     ]
    },
    {
     "name": "stdout",
     "output_type": "stream",
     "text": [
      "Validez e Intentos: \n",
      "validez credenciales y nro intentos: Falso 1\n"
     ]
    },
    {
     "name": "stdin",
     "output_type": "stream",
     "text": [
      "Seguir intentando Si, No t\n"
     ]
    },
    {
     "name": "stdout",
     "output_type": "stream",
     "text": [
      "Respuesta incorrecta\n"
     ]
    },
    {
     "name": "stdin",
     "output_type": "stream",
     "text": [
      "Usuario:  o\n",
      "Contraseña:  u\n"
     ]
    },
    {
     "name": "stdout",
     "output_type": "stream",
     "text": [
      "Validez e Intentos: \n",
      "validez credenciales y nro intentos: Falso 1\n"
     ]
    },
    {
     "name": "stdin",
     "output_type": "stream",
     "text": [
      "Seguir intentando Si, No Si\n",
      "Usuario:  usuario1\n",
      "Contraseña:  asdasd\n"
     ]
    },
    {
     "name": "stdout",
     "output_type": "stream",
     "text": [
      "Validez e Intentos: \n",
      "validez credenciales y nro intentos: Verdadero 1\n"
     ]
    },
    {
     "name": "stdin",
     "output_type": "stream",
     "text": [
      "Seguir intentando Si, No No\n"
     ]
    }
   ],
   "source": [
    "class usuario:\n",
    "    def set_user(self, user):\n",
    "        self.user= user\n",
    "    \n",
    "    def set_contra(self, contra):\n",
    "        self.contra= contra\n",
    "    \n",
    "cuenta=usuario()\n",
    "cuenta.set_user(\"usuario1\")\n",
    "cuenta.set_contra(\"asdasd\")\n",
    "\n",
    "print(cuenta.user, cuenta.contra)\n",
    "\n",
    "\n",
    "def decora(func):\n",
    "    def envolt(x,y):\n",
    "        print(\"Validez e Intentos: \")\n",
    "        x=func(x,y)\n",
    "        return \n",
    "    return envolt\n",
    "\n",
    "\n",
    "@decora\n",
    "def Login(usu,cont):\n",
    "    validez=\"Falso\"\n",
    "    intentos=0\n",
    "    if(cuenta.user==usu and cuenta.contra==cont):\n",
    "        validez=\"Verdadero\"\n",
    "        intentos=intentos+1\n",
    "        print(\"validez credenciales y nro intentos:\", validez, intentos)\n",
    "    else:\n",
    "        validez=\"Falso\"\n",
    "        intentos=intentos+1\n",
    "        print(\"validez credenciales y nro intentos:\", validez, intentos)\n",
    "    return validez, intentos\n",
    "\n",
    "salir=False\n",
    "while salir==False:\n",
    "    usu=input(\"Usuario: \")\n",
    "    cont=input(\"Contraseña: \")\n",
    "    Login(usu,cont)\n",
    "    orden=input(\"Seguir intentando Si, No\")\n",
    "    if (orden==\"Si\"):\n",
    "        salir=salir\n",
    "    elif (orden==\"No\"):\n",
    "        salir=True\n",
    "    else:\n",
    "        print(\"Respuesta incorrecta\")\n",
    "        salir=False\n",
    "\n",
    "        "
   ]
  },
  {
   "cell_type": "markdown",
   "id": "f79d0484-e02d-4e41-9fd7-a68f2f935ccd",
   "metadata": {},
   "source": [
    "#### 9. Crear una función recursiva que permita calcular el factorial de un número. Realiza un programa principal donde se lea un entero y se muestre el resultado del factorial. Revise la lección de funciones."
   ]
  },
  {
   "cell_type": "code",
   "execution_count": 45,
   "id": "4cf37cf1-1957-4555-a0f0-b8a866578ebb",
   "metadata": {},
   "outputs": [
    {
     "name": "stdin",
     "output_type": "stream",
     "text": [
      "Ingrese el número 3\n"
     ]
    },
    {
     "name": "stdout",
     "output_type": "stream",
     "text": [
      "El factorial de  3  es:  6\n"
     ]
    }
   ],
   "source": [
    "def decora(func):\n",
    "    def envolt(nro,factor):\n",
    "        print(\"El factorial de \",nro,\" es: \",func(nro,factor))\n",
    "        return\n",
    "    return envolt\n",
    "\n",
    "def factorial(num,fact):  \n",
    "    if num==1:\n",
    "        return fact\n",
    "    else:\n",
    "        fact=fact*num\n",
    "        num-=1\n",
    "    return factorial(num,fact)\n",
    "\n",
    "\n",
    "x=int(input(\"Ingrese el número\"))\n",
    "fact=1\n",
    "decor_factorial=decora(factorial)\n",
    "decor_factorial(x,fact)\n"
   ]
  },
  {
   "cell_type": "markdown",
   "id": "a4281327-918a-42ba-9153-ec8f3fff98be",
   "metadata": {},
   "source": [
    "#### 10. Escribir dos funciones que permitan calcular: La cantidad de segundos en un tiempo dado en horas, minutos y segundos. La cantidad de horas, minutos y segundos de un tiempo dado en segundos."
   ]
  },
  {
   "cell_type": "code",
   "execution_count": 97,
   "id": "8852c692-c5a0-4589-9639-b6c8bbb80826",
   "metadata": {},
   "outputs": [
    {
     "name": "stdin",
     "output_type": "stream",
     "text": [
      "Digite 1 para convertir a horas, y 2 para convertir a segundos. 1\n",
      "Digite la cantidad de segundos. 8420\n"
     ]
    },
    {
     "name": "stdout",
     "output_type": "stream",
     "text": [
      "8420  segundos equivalen a: 2  horas,  20  minutos y  20  segundos\n"
     ]
    }
   ],
   "source": [
    "def hours(s):\n",
    "    h=s//3600\n",
    "    m=(s-h*3600)//60\n",
    "    se=s-h*3600-m*60\n",
    "    print(s,\" segundos equivalen a:\",h,\" horas, \",m,\" minutos y \",se,\" segundos\")\n",
    "    return\n",
    "\n",
    "\n",
    "def segs(cad):\n",
    "    cad=cad.split('/')\n",
    "    tiemposeg=int(cad[0])*3600+int(cad[1])*60+int(cad[2])\n",
    "    print(cad[0],\" horas, \", cad[1],\" minutos y \", cad[2], \"segundos equivalen a: \", tiemposeg,\" segundos\")\n",
    "    return\n",
    "\n",
    "\n",
    "tipo=int(input(\"Digite 1 para convertir a horas, y 2 para convertir a segundos.\"))\n",
    "if tipo==1:\n",
    "    horas_intro=int(input(\"Digite la cantidad de segundos.\"))\n",
    "    hours(horas_intro)\n",
    "elif tipo==2:\n",
    "    segs_intro=input(\"Digite las horas, minutos y segundos separados por '/', sin espacios.\")\n",
    "    segs(segs_intro)\n",
    "else:\n",
    "    print(\"Respuesta inválida\")"
   ]
  },
  {
   "cell_type": "markdown",
   "id": "c4358e85-1b04-4fc5-a4f8-1278304d5ad7",
   "metadata": {},
   "source": [
    "#### 11. Crea una función  que lea una tupla, invierta los valores de la tupla y regrese una nueva tupla invirtiendo los valores. Recuerde que las tuplas son inmutables."
   ]
  },
  {
   "cell_type": "code",
   "execution_count": 133,
   "id": "1afec8ac-7f07-43a0-996a-06f266504097",
   "metadata": {},
   "outputs": [
    {
     "name": "stdin",
     "output_type": "stream",
     "text": [
      "Ingrese los elementos de la tupla, separados por comas y sin espacios. 2,20,media\n"
     ]
    },
    {
     "name": "stdout",
     "output_type": "stream",
     "text": [
      "La tupla es: ('2', '20', 'media')\n",
      "la tupla invertida es:\n"
     ]
    },
    {
     "data": {
      "text/plain": [
       "('media', '20', '2')"
      ]
     },
     "execution_count": 133,
     "metadata": {},
     "output_type": "execute_result"
    }
   ],
   "source": [
    "def decora(func):\n",
    "    def envolt(num):\n",
    "        print(\"la tupla invertida es:\")\n",
    "        a=func(num)\n",
    "        return a\n",
    "    return envolt\n",
    "\n",
    "@decora\n",
    "def invert(tup):\n",
    "    tupinv=[0]\n",
    "    for i in range(len(tup)-1,-1,-1):\n",
    "        if (i==len(tup)-1):\n",
    "            tupinv[0]=tup[len(tup)-1]\n",
    "        else:\n",
    "            tupinv.append(tup[i])\n",
    "    tuplainv=tuple(tupinv)\n",
    "    return tuplainv\n",
    "        \n",
    "\n",
    "\n",
    "datos=input(\"Ingrese los elementos de la tupla, separados por comas y sin espacios.\")\n",
    "cad=datos.split(',')\n",
    "tupla=tuple(cad)\n",
    "print(\"La tupla es:\",tupla)\n",
    "invert(tupla)\n"
   ]
  },
  {
   "cell_type": "markdown",
   "id": "92d1c286-8dc6-436a-98bf-7ebeb7b20e2a",
   "metadata": {},
   "source": [
    "#### 12. Escriba una función que lea una lista y calcule la media geométrica de sus valores, usando functools.reduce."
   ]
  },
  {
   "cell_type": "code",
   "execution_count": 153,
   "id": "3b5ecf43-5b74-46ea-a0d8-c5291c4dd3b3",
   "metadata": {},
   "outputs": [
    {
     "name": "stdin",
     "output_type": "stream",
     "text": [
      "Ingrese los elementos de la lista, separados por comas y sin espacios. 2,22,35.4\n"
     ]
    },
    {
     "name": "stdout",
     "output_type": "stream",
     "text": [
      "La lista de números es: [2.0, 22.0, 35.4]\n",
      "La media de los valores de la lista es: 19.8\n"
     ]
    }
   ],
   "source": [
    "import functools\n",
    "\n",
    "def decora(func):\n",
    "    def decorada(num):\n",
    "        print(\"La media de los valores de la lista es:\", func(num))\n",
    "        return\n",
    "    return decorada\n",
    "\n",
    "@decora\n",
    "def media(lis):\n",
    "    producto = functools.reduce(lambda x, y: x+y, lis)\n",
    "    med=producto/len(lis)\n",
    "    return med\n",
    "\n",
    "\n",
    "datos=input(\"Ingrese los elementos de la lista, separados por comas y sin espacios.\")\n",
    "lista=list(map(float,datos.split(\",\")))\n",
    "print(\"La lista de números es:\",lista)\n",
    "media(lista)\n"
   ]
  },
  {
   "cell_type": "markdown",
   "id": "02629cb9-7d9e-49f3-84f2-b5985c896a57",
   "metadata": {},
   "source": [
    "#### Entregable.\n",
    "\n",
    "#### Enlace a la solución escrita en un cuaderno de Jupyter Lab y puesto en Github."
   ]
  }
 ],
 "metadata": {
  "kernelspec": {
   "display_name": "Python 3 (ipykernel)",
   "language": "python",
   "name": "python3"
  },
  "language_info": {
   "codemirror_mode": {
    "name": "ipython",
    "version": 3
   },
   "file_extension": ".py",
   "mimetype": "text/x-python",
   "name": "python",
   "nbconvert_exporter": "python",
   "pygments_lexer": "ipython3",
   "version": "3.10.9"
  }
 },
 "nbformat": 4,
 "nbformat_minor": 5
}
